{
  "nbformat": 4,
  "nbformat_minor": 0,
  "metadata": {
    "colab": {
      "name": "Pr_ZeynalovArzu0.ipynb",
      "provenance": [],
      "authorship_tag": "ABX9TyNWVeeIoTiLwbVSrdvauE98",
      "include_colab_link": true
    },
    "kernelspec": {
      "name": "python3",
      "display_name": "Python 3"
    }
  },
  "cells": [
    {
      "cell_type": "markdown",
      "metadata": {
        "id": "view-in-github",
        "colab_type": "text"
      },
      "source": [
        "<a href=\"https://colab.research.google.com/github/ArzuZeynalov/Blockchain/blob/main/Pr_ZeynalovArzu0.ipynb\" target=\"_parent\"><img src=\"https://colab.research.google.com/assets/colab-badge.svg\" alt=\"Open In Colab\"/></a>"
      ]
    },
    {
      "cell_type": "code",
      "metadata": {
        "colab": {
          "base_uri": "https://localhost:8080/"
        },
        "id": "hqK9th4Ls9Ct",
        "outputId": "a73b5f49-ca85-4e19-ec8d-288e7b8a1d45"
      },
      "source": [
        "import hashlib\r\n",
        "#sha224\r\n",
        "hash_object = hashlib.sha224(b'Привет')\r\n",
        "print(hash_object.hexdigest())"
      ],
      "execution_count": 3,
      "outputs": [
        {
          "output_type": "stream",
          "text": [
            "b10a8db164e0754105b7a99be72e3fe5\n"
          ],
          "name": "stdout"
        }
      ]
    },
    {
      "cell_type": "code",
      "metadata": {
        "colab": {
          "base_uri": "https://localhost:8080/"
        },
        "id": "uLuQVzUZvk3r",
        "outputId": "c5e87c95-9f2b-4c92-baa4-b98bc1989a0f"
      },
      "source": [
        "#sha3_384\r\n",
        "hash_object = hashlib.sha3_384(b'Привет')\r\n",
        "print(hash_object.hexdigest())"
      ],
      "execution_count": 4,
      "outputs": [
        {
          "output_type": "stream",
          "text": [
            "a78ec2851e991638ce505d4a44efa606dd4056d3ab274ec6fdbac00cde16478263ef7213bad5a7db7044f58d637afdeb\n"
          ],
          "name": "stdout"
        }
      ]
    },
    {
      "cell_type": "code",
      "metadata": {
        "id": "bcvqr-s5wJUr"
      },
      "source": [
        "#blake2s\r\n",
        "hash_object = hashlib.blake2s(b'Привет')\r\n",
        "print(hash_object.hexdigest())"
      ],
      "execution_count": null,
      "outputs": []
    }
  ]
}