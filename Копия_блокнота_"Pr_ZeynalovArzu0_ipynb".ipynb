{
  "nbformat": 4,
  "nbformat_minor": 0,
  "metadata": {
    "colab": {
      "name": "Копия блокнота \"Pr_ZeynalovArzu0.ipynb\"",
      "provenance": [],
      "authorship_tag": "ABX9TyMc1YzxyM/RFD2QCxhqIl8B",
      "include_colab_link": true
    },
    "kernelspec": {
      "name": "python3",
      "display_name": "Python 3"
    }
  },
  "cells": [
    {
      "cell_type": "markdown",
      "metadata": {
        "id": "view-in-github",
        "colab_type": "text"
      },
      "source": [
        "<a href=\"https://colab.research.google.com/github/ArzuZeynalov/Blockchain/blob/main/%D0%9A%D0%BE%D0%BF%D0%B8%D1%8F_%D0%B1%D0%BB%D0%BE%D0%BA%D0%BD%D0%BE%D1%82%D0%B0_%22Pr_ZeynalovArzu0_ipynb%22.ipynb\" target=\"_parent\"><img src=\"https://colab.research.google.com/assets/colab-badge.svg\" alt=\"Open In Colab\"/></a>"
      ]
    },
    {
      "cell_type": "code",
      "metadata": {
        "colab": {
          "base_uri": "https://localhost:8080/",
          "height": 129
        },
        "id": "hqK9th4Ls9Ct",
        "outputId": "3ef136e7-ba06-4e67-aa94-01639215c1fa"
      },
      "source": [
        "import hashlib\r\n",
        "#sha224\r\n",
        "hash_object = hashlib.sha224(b'Привет')\r\n",
        "print(hash_object.hexdigest())"
      ],
      "execution_count": null,
      "outputs": [
        {
          "output_type": "error",
          "ename": "SyntaxError",
          "evalue": "ignored",
          "traceback": [
            "\u001b[0;36m  File \u001b[0;32m\"<ipython-input-7-083555d02657>\"\u001b[0;36m, line \u001b[0;32m3\u001b[0m\n\u001b[0;31m    hash_object = hashlib.sha224(b'Привет')\u001b[0m\n\u001b[0m                                ^\u001b[0m\n\u001b[0;31mSyntaxError\u001b[0m\u001b[0;31m:\u001b[0m bytes can only contain ASCII literal characters.\n"
          ]
        }
      ]
    },
    {
      "cell_type": "code",
      "metadata": {
        "colab": {
          "base_uri": "https://localhost:8080/",
          "height": 129
        },
        "id": "uLuQVzUZvk3r",
        "outputId": "2b3c3be2-2674-41e5-cb4a-25e8a667b377"
      },
      "source": [
        "import hashlib\r\n",
        "#sha3_384\r\n",
        "hash_object = hashlib.sha3_384(b'Привет')\r\n",
        "print(hash_object.hexdigest())"
      ],
      "execution_count": null,
      "outputs": [
        {
          "output_type": "error",
          "ename": "SyntaxError",
          "evalue": "ignored",
          "traceback": [
            "\u001b[0;36m  File \u001b[0;32m\"<ipython-input-5-1666d6086195>\"\u001b[0;36m, line \u001b[0;32m2\u001b[0m\n\u001b[0;31m    hash_object = hashlib.sha3_384(b'Привет')\u001b[0m\n\u001b[0m                                  ^\u001b[0m\n\u001b[0;31mSyntaxError\u001b[0m\u001b[0;31m:\u001b[0m bytes can only contain ASCII literal characters.\n"
          ]
        }
      ]
    },
    {
      "cell_type": "code",
      "metadata": {
        "id": "bcvqr-s5wJUr",
        "colab": {
          "base_uri": "https://localhost:8080/",
          "height": 129
        },
        "outputId": "bbb75f3c-b884-44d6-9c2f-c0079386b9d8"
      },
      "source": [
        "import hashlib\r\n",
        "#blake2s\r\n",
        "hash_object = hashlib.blake2s(b'Привет')\r\n",
        "print(hash_object.hexdigest())"
      ],
      "execution_count": null,
      "outputs": [
        {
          "output_type": "error",
          "ename": "SyntaxError",
          "evalue": "ignored",
          "traceback": [
            "\u001b[0;36m  File \u001b[0;32m\"<ipython-input-8-6e11cd656e88>\"\u001b[0;36m, line \u001b[0;32m3\u001b[0m\n\u001b[0;31m    hash_object = hashlib.blake2s(b'Привет')\u001b[0m\n\u001b[0m                                 ^\u001b[0m\n\u001b[0;31mSyntaxError\u001b[0m\u001b[0;31m:\u001b[0m bytes can only contain ASCII literal characters.\n"
          ]
        }
      ]
    },
    {
      "cell_type": "code",
      "metadata": {
        "id": "SL-pdc8gxoqF",
        "colab": {
          "base_uri": "https://localhost:8080/"
        },
        "outputId": "bf107d23-dc81-474f-d6c0-87f21b958309"
      },
      "source": [
        "import uuid\r\n",
        "import hashlib\r\n",
        "#Создаем функцию \"hash_password\" с параметром \"password\"\r\n",
        "def hash_password(password):\r\n",
        "    # uuid используется для генерации случайного числа\r\n",
        "    #создается переменная salt которой присваивается случайный уникальный идентификатор в шестнадцатеричном представлении целого числа.\r\n",
        "    salt = uuid.uuid4().hex\r\n",
        "    #возврат значения пароля и зашифрованного имени в sha256\r\n",
        "    return hashlib.sha256(salt.encode() + password.encode()).hexdigest() + ':' + salt\r\n",
        "#Создаем функцию \"check_password\" с параметрами \"hashed_password\" и \"user_password\"   \r\n",
        "def check_password(hashed_password, user_password):\r\n",
        "    #возврат захешированного пароля\r\n",
        "    password, salt = hashed_password.split(':')\r\n",
        "    #получение захешированного пароля\r\n",
        "    return password == hashlib.sha256(salt.encode() + user_password.encode()).hexdigest()\r\n",
        "#Запрос на ввод пароля \r\n",
        "new_pass = input('Введите пароль: ')\r\n",
        "#сохранение нового хеша пароля\r\n",
        "hashed_password = hash_password(new_pass)\r\n",
        "print('Строка для хранения в базе данных: ' + hashed_password)\r\n",
        "old_pass = input('Введите пароль еще раз для проверки: ')\r\n",
        "#Условие\r\n",
        "if check_password(hashed_password, old_pass):\r\n",
        "    print('Вы ввели правильный пароль')\r\n",
        "else:\r\n",
        "    print('Извините, но пароли не совпадают')"
      ],
      "execution_count": null,
      "outputs": [
        {
          "output_type": "stream",
          "text": [
            "Введите пароль: 1234\n",
            "Строка для хранения в базе данных: 15eb596cdea9e482e73fa9eda314953a7b92179598b4f64cca01f9a10cb477d8:9e2630a362eb4487a508a89718702987\n",
            "Введите пароль еще раз для проверки: 1234\n",
            "Вы ввели правильный пароль\n"
          ],
          "name": "stdout"
        }
      ]
    }
  ]
}